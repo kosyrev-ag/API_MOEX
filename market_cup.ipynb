{
 "cells": [
  {
   "cell_type": "code",
   "execution_count": 1,
   "id": "00b38a7b",
   "metadata": {},
   "outputs": [],
   "source": [
    "import pandas as pd\n",
    "import time\n",
    "from bs4 import BeautifulSoup as bs\n",
    "import requests\n",
    "from datetime import date"
   ]
  },
  {
   "cell_type": "code",
   "execution_count": 2,
   "id": "16558edb",
   "metadata": {},
   "outputs": [],
   "source": [
    "site = 'https://www.moex.com'\n",
    "cap_page = 'http://www.moex.com/s26'\n",
    "f_patch = 'D:/YandexDisk/!ИПЭИ/База данных по акциям/MOEX/market_cap.csv'\n",
    "current_date = date.today()"
   ]
  },
  {
   "cell_type": "code",
   "execution_count": 3,
   "id": "6aa8fab6",
   "metadata": {},
   "outputs": [],
   "source": [
    "# Функция получает таблицы капитализации, квартал, год и заголовки Дата Фрейма\n",
    "# Возвращат Дата Фрейм капитализации за год/квартал\n",
    "def get_quarter(tr_tabl, q, y, col_name):\n",
    "    q_cap = pd.DataFrame(columns=col_name)\n",
    "    for tr in tr_tabl:\n",
    "        tds = tr.find_all('td')\n",
    "        if len(tds) == 0:\n",
    "            continue\n",
    "        else:\n",
    "            pp = 1\n",
    "            row = []\n",
    "            for td in tds:\n",
    "                if pp == 5 or pp == 6 or pp == 7:\n",
    "                    s = (td.text).replace(u'\\xa0', u' ')\n",
    "                    s = s.replace(\" \", \"\")\n",
    "                    s = s.replace(\",\", \".\")\n",
    "                    if len(s) != 0:\n",
    "                        s = float(s)\n",
    "                else:\n",
    "                    s = td.text\n",
    "                row.append(s)\n",
    "                pp = pp + 1\n",
    "        row.append(q)\n",
    "        row.append(y)\n",
    "        ind = len(q_cap)\n",
    "        q_cap.loc[ind] = row\n",
    "    return q_cap"
   ]
  },
  {
   "cell_type": "code",
   "execution_count": 4,
   "id": "6174db13",
   "metadata": {},
   "outputs": [],
   "source": [
    "# Считываем старый файл\n",
    "old_data = pd.read_csv(f_patch, sep=';', encoding='cp1251')"
   ]
  },
  {
   "cell_type": "code",
   "execution_count": 5,
   "id": "9975cf1d",
   "metadata": {},
   "outputs": [],
   "source": [
    "# Получаем последний год и квартал\n",
    "last_year = old_data['year'].unique().max()\n",
    "last_quarters = old_data[old_data['year'] == last_year]\n",
    "last_quarter = last_quarters['quarter'].max()"
   ]
  },
  {
   "cell_type": "code",
   "execution_count": 9,
   "id": "08b524d9",
   "metadata": {},
   "outputs": [
    {
     "data": {
      "text/plain": [
       "3"
      ]
     },
     "execution_count": 9,
     "metadata": {},
     "output_type": "execute_result"
    }
   ],
   "source": [
    "last_quarter"
   ]
  },
  {
   "cell_type": "code",
   "execution_count": 10,
   "id": "f36e0e70",
   "metadata": {},
   "outputs": [],
   "source": [
    "# Получаем страницу с капитализацией без Selenium\n",
    "url = cap_page\n",
    "headers = {\n",
    "    'User-Agent': 'Mozilla/5.0 (Windows NT 10.0; Win64; x64) AppleWebKit/537.36 (KHTML, like Gecko) Chrome/102.0.0.0 Safari/537.36'}\n",
    "response = requests.get(url.strip(), headers=headers, timeout=10)"
   ]
  },
  {
   "cell_type": "code",
   "execution_count": 11,
   "id": "679d09c0",
   "metadata": {},
   "outputs": [],
   "source": [
    "soup = bs(response.text)\n",
    "table_all_cap = soup.find('table', {'class': 'table1'})"
   ]
  },
  {
   "cell_type": "code",
   "execution_count": 12,
   "id": "3d087fea",
   "metadata": {},
   "outputs": [],
   "source": [
    "ths = table_all_cap.find_all('th')"
   ]
  },
  {
   "cell_type": "code",
   "execution_count": 13,
   "id": "d91502cc",
   "metadata": {},
   "outputs": [],
   "source": [
    "years = []\n",
    "for th in ths:\n",
    "    years.append(th.text)"
   ]
  },
  {
   "cell_type": "code",
   "execution_count": 14,
   "id": "f9f19fbb",
   "metadata": {},
   "outputs": [
    {
     "data": {
      "text/plain": [
       "['2011',\n",
       " '2012',\n",
       " '2013',\n",
       " '2014',\n",
       " '2015',\n",
       " '2016',\n",
       " '2017',\n",
       " '2018',\n",
       " '2019',\n",
       " '2020',\n",
       " '2021',\n",
       " '2022',\n",
       " '2023']"
      ]
     },
     "execution_count": 14,
     "metadata": {},
     "output_type": "execute_result"
    }
   ],
   "source": [
    "years"
   ]
  },
  {
   "cell_type": "code",
   "execution_count": 15,
   "id": "ddd9e545",
   "metadata": {},
   "outputs": [
    {
     "data": {
      "text/plain": [
       "<tr>\n",
       "<th style=\"text-align:center; white-space:nowrap\"><strong>2011</strong></th>\n",
       "<th style=\"text-align:center; white-space:nowrap\"><strong>2012</strong></th>\n",
       "<th style=\"text-align:center; white-space:nowrap\"><strong>2013</strong></th>\n",
       "<th style=\"text-align:center; white-space:nowrap\"><strong>2014</strong></th>\n",
       "<th style=\"text-align:center; white-space:nowrap\"><strong>2015</strong></th>\n",
       "<th style=\"text-align:center; white-space:nowrap\"><strong>2016</strong></th>\n",
       "<th style=\"text-align:center; white-space:nowrap\"><strong>2017</strong></th>\n",
       "<th style=\"text-align:center; white-space:nowrap\"><strong>2018</strong></th>\n",
       "<th style=\"text-align:center; white-space:nowrap\"><strong>2019</strong></th>\n",
       "<th style=\"text-align:center; white-space:nowrap\"><strong>2020</strong></th>\n",
       "<th><strong>2021</strong></th>\n",
       "<th>2022</th>\n",
       "<th>2023</th>\n",
       "</tr>"
      ]
     },
     "execution_count": 15,
     "metadata": {},
     "output_type": "execute_result"
    }
   ],
   "source": [
    "trs = table_all_cap.find_all('tr')\n",
    "trs.pop(0)"
   ]
  },
  {
   "cell_type": "code",
   "execution_count": 16,
   "id": "fbb884bc",
   "metadata": {},
   "outputs": [
    {
     "name": "stdout",
     "output_type": "stream",
     "text": [
      "Новые данные\n"
     ]
    }
   ],
   "source": [
    "# Формируем словарь из переменных год, квартал, ссылка\n",
    "data = []\n",
    "for tr in trs:  # для каждой строки\n",
    "    year = 2011\n",
    "    tds = tr.find_all('td')  # берем все\n",
    "    for td in tds:\n",
    "        dd = []\n",
    "        dd.append(year)\n",
    "        if td.text == '\\xa0':\n",
    "            dd.append('nq')  # заполняем пустые кварталы\n",
    "            dd.append('nl')  # заполняем пустые ссылки\n",
    "            data.append(dd)\n",
    "            year = year+1\n",
    "        else:\n",
    "            dd.append(td.text)  # значение квартала\n",
    "            dd.append(td.find('a')['href'])  # ссылка\n",
    "            data.append(dd)\n",
    "            year = year+1\n",
    "\n",
    "# Удаляем слово квартал\n",
    "for d in data:\n",
    "    d[1] = d[1][0:1]\n",
    "\n",
    "# Отщищаем от пустых кварталов\n",
    "clear_data = []\n",
    "for d in data:\n",
    "    if d[1] == 'n':\n",
    "        continue\n",
    "    else:\n",
    "        clear_data.append(d)\n",
    "\n",
    "# Проверка наличия новых данных\n",
    "new_data = False\n",
    "for dt in clear_data:\n",
    "    if int(dt[0]) == int(last_year):\n",
    "        if int(dt[1]) > int(last_quarter):\n",
    "            print('Новые данные')\n",
    "            new_data = True\n",
    "            break\n",
    "        else:\n",
    "            continue\n",
    "    if int(dt[0]) > int(last_year):\n",
    "        print('Новые данные')\n",
    "        new_data = True\n",
    "        break\n",
    "if new_data != True:\n",
    "    print('Новых данных нет')\n",
    "else:  # делаем сохранение старых данных\n",
    "    old_data.to_csv(\n",
    "        f'D:/YandexDisk/!ИПЭИ/База данных по акциям/MOEX/backup/market_cap_{current_date}.csv', sep=';', encoding='cp1251', index=False)"
   ]
  },
  {
   "cell_type": "code",
   "execution_count": 17,
   "id": "08ae64ac",
   "metadata": {},
   "outputs": [],
   "source": [
    "# Формируем пустой Дата Фрейм\n",
    "col = ['ticker', 'name', 'cat', 'reg',\n",
    "       'volume', 'price', 'cap', 'quarter', 'year']\n",
    "if len(old_data) == 0:\n",
    "    cap = pd.DataFrame(columns=col)\n",
    "else:\n",
    "    cap = old_data"
   ]
  },
  {
   "cell_type": "code",
   "execution_count": 21,
   "id": "8856ad7e",
   "metadata": {},
   "outputs": [],
   "source": [
    "# Получаем данные о капитализации\n",
    "skip = []  # будем записывать уникальные ссылки\n",
    "for q_data in clear_data:\n",
    "    # По условиям проверяем если, данные за год/квартал в считанном файле\n",
    "    if int(q_data[0]) <= int(last_year) and int(q_data[1]) <= int(last_quarter):\n",
    "        continue\n",
    "    if int(q_data[0]) == int(last_year) and int(q_data[1]) <= int(last_quarter):\n",
    "        continue\n",
    "    # if int(q_data[0]) < int(last_year):\n",
    "    #    continue\n",
    "    # if int(q_data[1]) <= int(last_quarter) and int(q_data[0]) == int(last_year):\n",
    "    #    continue\n",
    "    # Проверяем подходит ли ссылка для формирования запроса\n",
    "    if len(q_data[2]) < 7:\n",
    "        url = site + q_data[2]\n",
    "        response = requests.get(url.strip(), headers=headers, timeout=10)\n",
    "        soup = bs(response.text)\n",
    "        q_table = soup.find('table', {'class': 'table1'})\n",
    "        tr_table = q_table.find_all('tr')\n",
    "        data_q = get_quarter(tr_table, q_data[1], q_data[0], col)\n",
    "        cap = pd.concat([cap, data_q], ignore_index=True)\n",
    "        time.sleep(5)\n",
    "    else:\n",
    "        # Если ссылка не подошла, добавляем ее в пропущенные\n",
    "        skip.append(q_data[2])"
   ]
  },
  {
   "cell_type": "code",
   "execution_count": 22,
   "id": "e0823d2a",
   "metadata": {},
   "outputs": [
    {
     "name": "stdout",
     "output_type": "stream",
     "text": [
      "Пропущенна ссылка https://fs.moex.com/f/17268/marketcap2022-3q.xlsx\n",
      "Пропущенна ссылка http://moex.com/a8501\n"
     ]
    }
   ],
   "source": [
    "if len(skip) != 0:\n",
    "    for link in skip:\n",
    "        print('Пропущенна ссылка', link)\n",
    "else:\n",
    "    print('Пропущенных ссылок нет')"
   ]
  },
  {
   "cell_type": "code",
   "execution_count": 23,
   "id": "c55841a8",
   "metadata": {},
   "outputs": [
    {
     "data": {
      "text/plain": [
       "[[2011, '4', '/a20'],\n",
       " [2012, '4', '/a1465'],\n",
       " [2013, '4', '/a2261'],\n",
       " [2014, '4', '/a2987'],\n",
       " [2015, '4', '/a3503'],\n",
       " [2016, '4', '/a3882'],\n",
       " [2017, '4', '/a4258'],\n",
       " [2018, '4', '/a6401'],\n",
       " [2019, '4', '/a7150'],\n",
       " [2020, '4', '/a7605'],\n",
       " [2021, '4', '/a8067'],\n",
       " [2022, '4', '/a8313'],\n",
       " [2012, '3', '/a1244'],\n",
       " [2013, '3', '/a2045'],\n",
       " [2014, '3', '/a2813'],\n",
       " [2015, '3', '/a3369'],\n",
       " [2016, '3', '/a3794'],\n",
       " [2017, '3', '/a4184'],\n",
       " [2018, '3', '/a4420'],\n",
       " [2019, '3', '/a7080'],\n",
       " [2020, '3', '/a7396'],\n",
       " [2021, '3', '/a7935'],\n",
       " [2022, '3', 'https://fs.moex.com/f/17268/marketcap2022-3q.xlsx'],\n",
       " [2023, '3', '/a8593'],\n",
       " [2012, '2', '/a1127'],\n",
       " [2013, '2', '/a1823'],\n",
       " [2014, '2', '/a2702'],\n",
       " [2015, '2', '/a3177'],\n",
       " [2016, '2', '/a3691'],\n",
       " [2017, '2', '/a4094'],\n",
       " [2018, '2', '/a4377'],\n",
       " [2019, '2', '/a6997'],\n",
       " [2020, '2', '/a7305'],\n",
       " [2021, '2', '/a7798'],\n",
       " [2022, '2', '/a8177'],\n",
       " [2023, '2', 'http://moex.com/a8501'],\n",
       " [2012, '1', '/a685'],\n",
       " [2013, '1', '/a1688'],\n",
       " [2014, '1', '/a2474'],\n",
       " [2015, '1', '/a3048'],\n",
       " [2016, '1', '/a3601'],\n",
       " [2017, '1', '/a4027'],\n",
       " [2018, '1', '/a4318'],\n",
       " [2019, '1', '/a6861'],\n",
       " [2020, '1', '/a7246'],\n",
       " [2021, '1', '/a7714'],\n",
       " [2022, '1', '/a8135'],\n",
       " [2023, '1', '/a8430']]"
      ]
     },
     "execution_count": 23,
     "metadata": {},
     "output_type": "execute_result"
    }
   ],
   "source": [
    "clear_data"
   ]
  },
  {
   "cell_type": "code",
   "execution_count": 24,
   "id": "f9047569",
   "metadata": {},
   "outputs": [],
   "source": [
    "\n",
    "#Добавление в Дата Фрейм данные из xlsx файла\n",
    "data2022_3 = pd.read_excel('https://fs.moex.com/f/17268/marketcap2022-3q.xlsx', header=2)\n",
    "data2022_3_new = data2022_3.dropna(thresh=3).copy()\n",
    "data2022_3_new['quarter']='3'\n",
    "data2022_3_new['year']='2022'\n",
    "col_table = []\n",
    "for colum in data2022_3_new.columns:\n",
    "    col_table.append(colum)\n",
    "col_new = dict(zip(col_table, col))\n",
    "data2022_3_new = data2022_3_new.rename(columns = col_new)\n",
    "cap = pd.concat([cap,data2022_3_new], ignore_index=True)\n"
   ]
  },
  {
   "cell_type": "code",
   "execution_count": 25,
   "id": "f70723c1",
   "metadata": {},
   "outputs": [],
   "source": [
    "\n",
    "#Добавление пропущеенной ссылки\n",
    "url = 'http://moex.com/a8501'\n",
    "response = requests.get(url.strip(), headers=headers, timeout=10)\n",
    "soup = bs(response.text)\n",
    "q_table = soup.find('table', {'class':'table1'})\n",
    "tr_table = q_table.find_all('tr')\n",
    "data_q = get_quarter (tr_table,2,2023,col)\n",
    "cap = pd.concat([cap,data_q], ignore_index=True)\n"
   ]
  },
  {
   "cell_type": "code",
   "execution_count": 26,
   "id": "4ee1e5bc",
   "metadata": {},
   "outputs": [],
   "source": [
    "# Запись нового файла\n",
    "if new_data == True:\n",
    "    cap.to_csv('td.csv', sep=';', encoding='cp1251', index=False)"
   ]
  },
  {
   "cell_type": "code",
   "execution_count": null,
   "id": "35e1969d",
   "metadata": {},
   "outputs": [],
   "source": []
  }
 ],
 "metadata": {
  "kernelspec": {
   "display_name": "Python 3 (ipykernel)",
   "language": "python",
   "name": "python3"
  },
  "language_info": {
   "codemirror_mode": {
    "name": "ipython",
    "version": 3
   },
   "file_extension": ".py",
   "mimetype": "text/x-python",
   "name": "python",
   "nbconvert_exporter": "python",
   "pygments_lexer": "ipython3",
   "version": "3.11.4"
  }
 },
 "nbformat": 4,
 "nbformat_minor": 5
}
