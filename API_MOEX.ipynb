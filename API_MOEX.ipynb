{
 "cells": [
  {
   "cell_type": "markdown",
   "id": "cb84a951",
   "metadata": {},
   "source": [
    "В стандартной установке может отсутствовать часть модулей, необходимых для работы, их нужно установить  \n",
    "Команда установки \"pip install имя_модуля\" вводится в этом же окне.  \n",
    "После установки необходимо перезапустить ядро выбрав в меню сверху Kernel-Restart. "
   ]
  },
  {
   "cell_type": "code",
   "execution_count": null,
   "id": "056825f6",
   "metadata": {},
   "outputs": [],
   "source": [
    "import pandas as pd #Для работы с таблицами данных (дата фреймы)\n",
    "import requests #Для запросов к серверу\n",
    "import json #Для обработки ответов сервера"
   ]
  },
  {
   "cell_type": "markdown",
   "id": "5d98c40f",
   "metadata": {},
   "source": [
    "# Выгрузка данных по акции Сбербанка"
   ]
  },
  {
   "cell_type": "markdown",
   "id": "989fab42",
   "metadata": {},
   "source": [
    "Сперва зададим изначально необходимые значения  \n",
    "Сформируем базовый заспрос и пустой дата фрейм с именами колонок"
   ]
  },
  {
   "cell_type": "code",
   "execution_count": null,
   "id": "31a8a1c9",
   "metadata": {},
   "outputs": [],
   "source": [
    "# В базовом запросе мы укажем:\n",
    "# engines/stok (фондовый рынок), markets/shares - рынок акций, boards/TQBR - режим торгов для акции сбербанка TQBR\n",
    "# Базовый запрос поместим в переменную base_url\n",
    "base_url = \"http://iss.moex.com/iss/history/engines/stock/markets/shares/boards/TQBR/securities.json\"\n",
    "response = requests.get(base_url) # Получим ответ от сервера \n",
    "result = json.loads(response.text) # Расшифровываем ответ от сервера\n",
    "col_name = result['history']['columns'] # Задаем имена колонок извлекая данные из ответа сервера\n",
    "data_shares = pd.DataFrame(columns = col_name) #"
   ]
  },
  {
   "cell_type": "code",
   "execution_count": null,
   "id": "c572d4e9",
   "metadata": {},
   "outputs": [],
   "source": [
    "data_shares  # Можно посмотреть что получилось"
   ]
  },
  {
   "cell_type": "code",
   "execution_count": null,
   "id": "7800ea0a",
   "metadata": {},
   "outputs": [],
   "source": [
    "url_share = 'http://iss.moex.com/iss/history/engines/stock/markets/shares/boards/TQBR/securities/SBER.json' #Первая страница данных\n",
    "# Получаем данные\n",
    "response = requests.get(url_share)\n",
    "result = json.loads(response.text) \n",
    "resp_date = result['history']['data'] \n",
    "#Извлеченные данные добавляем в начало дата фрейма\n",
    "data_shares  = pd.DataFrame(resp_date, columns = col_name)\n",
    "# Узнаем количество полученных строк, если их меньше 100, то мы получили все данные\n",
    "a = len(resp_date)"
   ]
  },
  {
   "cell_type": "markdown",
   "id": "6f5c4d1a",
   "metadata": {},
   "source": [
    "Если же значение а равно 100, то получены не все данные по выбранной бумаге.  \n",
    "В этом случае запускаем в цикле переборку остальных страниц.  \n",
    "Цикл будет работать до тех пор, пока мы не получим количество строк меньше, чем 100.  \n",
    "Для этого каждый раз на предпоследнем шаге цикла переопределяем переменную."
   ]
  },
  {
   "cell_type": "code",
   "execution_count": null,
   "id": "a192e1e8",
   "metadata": {},
   "outputs": [],
   "source": [
    "b = 100\n",
    "while a == 100:\n",
    "    url_opt = '?start=' + str(b)\n",
    "    url_next_page  = url_share + url_opt\n",
    "    response = requests.get(url_next_page)\n",
    "    result = json.loads(response.text)\n",
    "    resp_date = result['history']['data']\n",
    "    data_next_page = pd.DataFrame(resp_date, columns = col_name)\n",
    "    data_shares = pd.concat([data_shares, data_next_page], ignore_index=True) \n",
    "    a = len(resp_date)\n",
    "    b = b + 100"
   ]
  },
  {
   "cell_type": "code",
   "execution_count": null,
   "id": "42afc3df",
   "metadata": {},
   "outputs": [],
   "source": [
    "b"
   ]
  },
  {
   "cell_type": "markdown",
   "id": "8c2482fe",
   "metadata": {},
   "source": [
    "Судя по переменной b, у нас должно быть не менее 2400 строк, проверим"
   ]
  },
  {
   "cell_type": "code",
   "execution_count": null,
   "id": "6fe57db4",
   "metadata": {},
   "outputs": [],
   "source": [
    "data_shares"
   ]
  },
  {
   "cell_type": "markdown",
   "id": "45b25181",
   "metadata": {},
   "source": [
    "Мы получили 2405 строк, с датами с 25 марта 2013 г. по предыдущую торговую дату"
   ]
  },
  {
   "cell_type": "markdown",
   "id": "75bdc5db",
   "metadata": {},
   "source": [
    "# Облигации"
   ]
  },
  {
   "cell_type": "markdown",
   "id": "3a039d79",
   "metadata": {},
   "source": [
    "Данные по облигациям собираются аналогичным образом, изменяется лишь базовый запрос.  \n",
    "https://iss.moex.com/iss/history/engines/stock/markets/bonds/boards/TQCB/securities  \n",
    "Как видно из базового запроса, у нас изменился параметр после markets - shares поменяли на bonds и значение режима идентификатора торгов с TQBR на TQCB\n",
    "Найти название нужной облигаии можно на сайте московской биржи в разделе \"Биржевая информация\". Выбрав нужный раздел и бумагу, мы увидим необходимую информацию"
   ]
  },
  {
   "cell_type": "markdown",
   "id": "abe2d313",
   "metadata": {},
   "source": [
    "Возьмем облигацию РЖД-32 обл. Ее код RU000A0JSGV0, идентификатор режима торгов TQCB  \n",
    "Кроме этого, можно получить информацию об инструменте и через API, указав в запросе код бумаги\n",
    "https://iss.moex.com/iss/securities/RU000A0JSGV0"
   ]
  },
  {
   "cell_type": "code",
   "execution_count": null,
   "id": "bc203673",
   "metadata": {},
   "outputs": [],
   "source": [
    "base_url = \"http://iss.moex.com/iss/history/engines/stock/markets/bonds/boards/TQCB/securities.json\" #Задаем базовый адрес запроса для облигаций\n",
    "response = requests.get(base_url) #Получим ответ от сервера \n",
    "result = json.loads(response.text)\n",
    "col_name = result['history']['columns'] #Задаем имена колонок извлекая данные из ответа сервера\n",
    "data_bonds = pd.DataFrame(columns = col_name)"
   ]
  },
  {
   "cell_type": "markdown",
   "id": "196673a6",
   "metadata": {},
   "source": [
    "Проверим полученые колонки"
   ]
  },
  {
   "cell_type": "code",
   "execution_count": null,
   "id": "6928f31f",
   "metadata": {},
   "outputs": [],
   "source": [
    "data_bonds"
   ]
  },
  {
   "cell_type": "code",
   "execution_count": null,
   "id": "f331c0a1",
   "metadata": {},
   "outputs": [],
   "source": [
    "url_bonds = 'http://iss.moex.com/iss/history/engines/stock/markets/bonds/boards/TQCB/securities/RU000A0JSGV0.json' #Первая страница данных\n",
    "# Получаем данные\n",
    "response = requests.get(url_bonds)\n",
    "result = json.loads(response.text)\n",
    "resp_date = result['history']['data'] \n",
    "#Извлеченные данные добавляем в начальный дата фрейм\n",
    "data_bonds  = pd.DataFrame(resp_date, columns = col_name)\n",
    "# Узнаем количество полученных строк, если их меньше 100, то мы получили все данные\n",
    "a = len(resp_date)"
   ]
  },
  {
   "cell_type": "markdown",
   "id": "f76708d9",
   "metadata": {},
   "source": [
    "Проверим первые полученные данные"
   ]
  },
  {
   "cell_type": "code",
   "execution_count": null,
   "id": "e8bc18ec",
   "metadata": {},
   "outputs": [],
   "source": [
    "data_bonds"
   ]
  },
  {
   "cell_type": "markdown",
   "id": "a2d875c0",
   "metadata": {},
   "source": [
    "На сайте мосбиржи для этой бумаги указана дата начала торгов 20.07.2012, однако мы получили данные только с 25 мая 2020 года. \n",
    "Открыв на сайте мос биржи на странице этой бумаги вкладку \"Режимы торгов\", можно увидеть, что в указанном режиме торгов бумага торгуется как раз с 25.05.2020, однако никакой информации за более ранние даты даже по другим режимам торгов информация через API и на сайте биржи нет"
   ]
  },
  {
   "cell_type": "markdown",
   "id": "a12c8f2f",
   "metadata": {},
   "source": [
    "Как и в примере с акцией Сбера, собираем в цикле данные по облигации РЖД"
   ]
  },
  {
   "cell_type": "code",
   "execution_count": null,
   "id": "5c47aab7",
   "metadata": {},
   "outputs": [],
   "source": [
    "b = 100\n",
    "while a == 100:\n",
    "    url_opt = '?start=' + str(b)\n",
    "    url_next_page  = url_bonds + url_opt\n",
    "    response = requests.get(url_next_page)\n",
    "    result = json.loads(response.text)\n",
    "    resp_date = result['history']['data']\n",
    "    data_next_page = pd.DataFrame(resp_date, columns = col_name)\n",
    "    data_bonds  = pd.concat([data_bonds, data_next_page], ignore_index=True) \n",
    "    a = len(resp_date)\n",
    "    b = b + 100"
   ]
  },
  {
   "cell_type": "markdown",
   "id": "03d1559c",
   "metadata": {},
   "source": [
    "Проверяем, что получилось"
   ]
  },
  {
   "cell_type": "code",
   "execution_count": null,
   "id": "3f360669",
   "metadata": {},
   "outputs": [],
   "source": [
    "data_bonds"
   ]
  },
  {
   "cell_type": "markdown",
   "id": "9a02f5a8",
   "metadata": {},
   "source": [
    "Как мы видим, были выгружены данные с 25 мая 2020 г. по предыдущую торговую дату"
   ]
  },
  {
   "cell_type": "markdown",
   "id": "3c562e88",
   "metadata": {},
   "source": [
    "# Другие инструменты"
   ]
  },
  {
   "cell_type": "markdown",
   "id": "fdf27f83",
   "metadata": {},
   "source": [
    "Попробуем выгрузить аналогичную информацию по другим инструментам мосбиржи  \n",
    "Например индекс мосбиржи IMOEX  \n",
    "Сперва получим информацию о бумаге: http://iss.moex.com/iss/securities/IMOEX  \n",
    "Получим следующую базовую информацию:  \n",
    "engine - stock  \n",
    "market  - index  \n",
    "boardid - SNDX  \n",
    "Составляем базовый запрос:\n",
    "http://iss.moex.com/iss/history/engines/stock/markets/bonds/boards/SNDX/securities.json  \n",
    "Запрос для выбранной бумаги: \n",
    "http://iss.moex.com/iss/history/engines/stock/markets/index/boards/SNDX/securities/imoex.json  \n",
    "Как видно из ответа, по индексу IMOEX доступны данные начиная с 22 сентября 1997 года  \n",
    "Скачаем данные аналогично другим инструментам"
   ]
  },
  {
   "cell_type": "code",
   "execution_count": null,
   "id": "dde44de4",
   "metadata": {},
   "outputs": [],
   "source": [
    "base_url = \"http://iss.moex.com/iss/history/engines/stock/markets/index/boards/SNDX/securities.json\" #Задаем базовый адрес запроса для облигаций\n",
    "response = requests.get(base_url) #Получим ответ от сервера \n",
    "result = json.loads(response.text)\n",
    "col_name = result['history']['columns'] #Задаем имена колонок извлекая данные из ответа сервера\n",
    "data_index = pd.DataFrame(columns = col_name)"
   ]
  },
  {
   "cell_type": "code",
   "execution_count": null,
   "id": "548d255b",
   "metadata": {},
   "outputs": [],
   "source": [
    "data_index"
   ]
  },
  {
   "cell_type": "code",
   "execution_count": null,
   "id": "a642831e",
   "metadata": {},
   "outputs": [],
   "source": [
    "url_index = 'http://iss.moex.com/iss/history/engines/stock/markets/index/boards/SNDX/securities/imoex.json' #Первая страница данных\n",
    "# Получаем данные\n",
    "response = requests.get(url_index)\n",
    "result = json.loads(response.text)\n",
    "resp_date = result['history']['data'] \n",
    "#Извлеченные данные добавляем в начальный дата фрейм\n",
    "data_index  = pd.DataFrame(resp_date, columns = col_name)\n",
    "# Узнаем количество полученных строк, если их меньше 100, то мы получили все данные\n",
    "a = len(resp_date)"
   ]
  },
  {
   "cell_type": "code",
   "execution_count": null,
   "id": "1cfbd49d",
   "metadata": {},
   "outputs": [],
   "source": [
    "data_index"
   ]
  },
  {
   "cell_type": "code",
   "execution_count": null,
   "id": "dc3ea020",
   "metadata": {},
   "outputs": [],
   "source": [
    "b = 100\n",
    "while a == 100:\n",
    "    url_opt = '?start=' + str(b)\n",
    "    url_next_page  = (url_index + url_opt)\n",
    "    response = requests.get(url_next_page)\n",
    "    result = json.loads(response.text)\n",
    "    resp_date = result['history']['data']\n",
    "    data_next_page = pd.DataFrame(resp_date, columns = col_name)\n",
    "    data_index  = pd.concat([data_index, data_next_page], ignore_index=True) \n",
    "    a = len(resp_date)\n",
    "    b = b + 100"
   ]
  },
  {
   "cell_type": "code",
   "execution_count": null,
   "id": "ca65f89e",
   "metadata": {},
   "outputs": [],
   "source": [
    "data_index"
   ]
  },
  {
   "cell_type": "markdown",
   "id": "7e0f6c05",
   "metadata": {},
   "source": [
    "В итоге мы за несколько секунд получили 6254 строки или данные по инструменту с 22 сентября 1997 г. по последнюю торговую дату"
   ]
  },
  {
   "cell_type": "markdown",
   "id": "4c912251",
   "metadata": {},
   "source": [
    "Все полученные данные можно сохранить в файл формата csv для последующей обработки удобным методом"
   ]
  },
  {
   "cell_type": "code",
   "execution_count": null,
   "id": "96cf6ae5",
   "metadata": {},
   "outputs": [],
   "source": [
    "data_shares.to_csv('SBER_22.csv', encoding='cp1251')\n",
    "data_bonds.to_csv('RZD_22.csv', encoding='cp1251')\n",
    "data_index.to_csv('IMOEX_22.csv', encoding='cp1251', sep=';')"
   ]
  },
  {
   "cell_type": "markdown",
   "id": "3fd51c70",
   "metadata": {},
   "source": [
    "Синтаксис сохранения в файл простой  \n",
    "имя_набора данных.to_csv('имя файла с расширением', encoding='кодировка_файла', sep='разделитель')  \n",
    "Параметр кодировки необязательный, но при работе с кирилицей лучше использовать его  \n",
    "Параметр разделителя - по умолчанию это ','. Если использовать sep=';', то данные при открытии csv файла Excel'ем будут уже разбиты на столбы, иначе вы получите данные одной строки в одном столбце, значения в котором будут разделены запятой  \n",
    "Если необходимо сохранить файл в определенное место на компьютере, а не в рабочей папке проект, то имя файла указывается в следующем формате: data.to_csv(r'D:\\имя_папки\\имя_файла.csv', encoding='cp1251')'\n"
   ]
  },
  {
   "cell_type": "code",
   "execution_count": null,
   "id": "d6850cc4",
   "metadata": {},
   "outputs": [],
   "source": []
  }
 ],
 "metadata": {
  "kernelspec": {
   "display_name": "Python 3",
   "language": "python",
   "name": "python3"
  },
  "language_info": {
   "codemirror_mode": {
    "name": "ipython",
    "version": 3
   },
   "file_extension": ".py",
   "mimetype": "text/x-python",
   "name": "python",
   "nbconvert_exporter": "python",
   "pygments_lexer": "ipython3",
   "version": "3.8.8"
  }
 },
 "nbformat": 4,
 "nbformat_minor": 5
}
