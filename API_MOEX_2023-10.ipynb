{
 "cells": [
  {
   "cell_type": "markdown",
   "id": "37157ebe",
   "metadata": {},
   "source": [
    "В стандартной установке может отсутствовать часть модулей, необходимых для работы, их нужно установить  \n",
    "Команда установки \"pip install имя_модуля\" вводится в этом же окне, но в формате кода.  \n",
    "После установки необходимо перезапустить ядро выбрав в меню сверху Kernel->Restart."
   ]
  },
  {
   "cell_type": "code",
   "execution_count": null,
   "id": "bb2210a8",
   "metadata": {},
   "outputs": [],
   "source": [
    "import pandas as pd  # Для работы с таблицами данных (ДатаФреймы)\n",
    "import requests  # Для запросов к серверу ИСС\n",
    "import json  # Для обработки ответов сервера ИСС\n",
    "from datetime import datetime  # Для работы с датами\n",
    "import time  # Для работы со временем (пауза между запросами)\n",
    "import numpy as np  # Для работы с одномерными массивами"
   ]
  },
  {
   "cell_type": "markdown",
   "id": "9dbf8eef",
   "metadata": {},
   "source": [
    "# Выгрузка данных по акции Сбербанка\n",
    "Сперва зададим изначально необходимые значения  \n",
    "Сформируем базовый заспрос и пустой дата фрейм с именами колонок"
   ]
  },
  {
   "cell_type": "code",
   "execution_count": null,
   "id": "793b6112",
   "metadata": {},
   "outputs": [],
   "source": [
    "# В базовом запросе мы укажем:\n",
    "# engines/stok (фондовый рынок), markets/shares - рынок акций, boards/TQBR - режим торгов для акции сбербанка TQBR\n",
    "# Базовый запрос поместим в переменную base_url\n",
    "base_url = \"http://iss.moex.com/iss/history/engines/stock/markets/shares/boards/TQBR/securities.json\"\n",
    "response = requests.get(base_url)  # Получим ответ от сервера\n",
    "result = json.loads(response.text)  # Расшифровываем ответ от сервера\n",
    "# Задаем имена колонок извлекая данные из ответа сервера\n",
    "col_name = result['history']['columns']\n",
    "data_shares = pd.DataFrame(columns=col_name)"
   ]
  },
  {
   "cell_type": "code",
   "execution_count": null,
   "id": "9a316c97",
   "metadata": {},
   "outputs": [],
   "source": [
    "data_shares  # Можно посмотреть что получилось"
   ]
  },
  {
   "cell_type": "markdown",
   "id": "15162b0b",
   "metadata": {},
   "source": [
    "Получился датафрйем из 23 колонок  \n",
    "Перейдем к получению данных по акциям Сбербанка"
   ]
  },
  {
   "cell_type": "code",
   "execution_count": null,
   "id": "bf6d6c57",
   "metadata": {},
   "outputs": [],
   "source": [
    "# Первая страница данных\n",
    "url_share = 'http://iss.moex.com/iss/history/engines/stock/markets/shares/boards/TQBR/securities/SBER.json'\n",
    "# Получаем данные\n",
    "response = requests.get(url_share)\n",
    "result = json.loads(response.text)\n",
    "resp_date = result['history']['data']\n",
    "# Извлеченные данные добавляем в начало дата фрейма\n",
    "data_shares = pd.DataFrame(resp_date, columns=col_name)\n",
    "# Узнаем количество полученных строк, если их меньше 100, то мы получили все данные\n",
    "a = len(resp_date)"
   ]
  },
  {
   "cell_type": "markdown",
   "id": "2ada4005",
   "metadata": {},
   "source": [
    "Если же количество строк 100, то получены не все данные (сервер отправляет ограниченное количество строк за раз).  \n",
    "В этом случае запускаем в цикле переборку остальных страниц.  \n",
    "Цикл будет работать до тех пор, пока мы не получим количество строк меньше, чем 100.  \n",
    "Для этого каждый раз на предпоследнем шаге цикла переопределяем переменную."
   ]
  },
  {
   "cell_type": "code",
   "execution_count": null,
   "id": "05d68884",
   "metadata": {},
   "outputs": [],
   "source": [
    "b = 100\n",
    "while a == 100:\n",
    "    url_opt = '?start=' + str(b)\n",
    "    url_next_page = url_share + url_opt\n",
    "    response = requests.get(url_next_page)\n",
    "    result = json.loads(response.text)\n",
    "    resp_date = result['history']['data']\n",
    "    data_next_page = pd.DataFrame(resp_date, columns=col_name)\n",
    "    data_shares = pd.concat([data_shares, data_next_page], ignore_index=True)\n",
    "    a = len(resp_date)\n",
    "    b = b + 100"
   ]
  },
  {
   "cell_type": "markdown",
   "id": "9238d70c",
   "metadata": {},
   "source": [
    "Посмотрим сколько примерно строк получилось, узнав значение b"
   ]
  },
  {
   "cell_type": "code",
   "execution_count": null,
   "id": "1bc7f38d",
   "metadata": {},
   "outputs": [],
   "source": [
    "b"
   ]
  },
  {
   "cell_type": "markdown",
   "id": "7f6a5920",
   "metadata": {},
   "source": [
    "За короткое время было загружено более 2600 строк данных  \n",
    "Точное колисество строк можно узнать отобразил наш датафрейм"
   ]
  },
  {
   "cell_type": "code",
   "execution_count": null,
   "id": "e1a152ff",
   "metadata": {},
   "outputs": [],
   "source": [
    "data_shares  # Посмотрим, что получилось"
   ]
  },
  {
   "cell_type": "code",
   "execution_count": null,
   "id": "ef40f07d",
   "metadata": {},
   "outputs": [],
   "source": [
    "data_shares.to_csv('data_shares', sep=';', encoding = 'cp1251') # Сохраним данные в csv файл"
   ]
  },
  {
   "cell_type": "markdown",
   "id": "9b92bd5b",
   "metadata": {},
   "source": [
    "## Данные по фьючерсам  "
   ]
  },
  {
   "cell_type": "code",
   "execution_count": null,
   "id": "9d4190c2",
   "metadata": {},
   "outputs": [],
   "source": [
    "# Получим данные по фьючерсам за текущий день\n",
    "base_url = 'https://iss.moex.com/iss/history/engines/futures/markets/forts/boards/RFUD/securities.json'\n",
    "date_start = datetime.strptime(\n",
    "    \"2023-01-01\", \"%Y-%m-%d\")  # Указываем начальную дату"
   ]
  },
  {
   "cell_type": "code",
   "execution_count": null,
   "id": "6921b058",
   "metadata": {},
   "outputs": [],
   "source": [
    "# Получим торговые дни\n",
    "# Ссылка на календарь праздников\n",
    "nwd_url = 'https://raw.githubusercontent.com/d10xa/holidays-calendar/master/json/calendar.json'\n",
    "nwd_response = requests.get(nwd_url)\n",
    "nwd_result = json.loads(nwd_response.text)\n",
    "no_work_day = pd.DataFrame(nwd_result['holidays'], columns=['holidays'])\n",
    "no_work_day['holidays_date'] = pd.to_datetime(\n",
    "    no_work_day['holidays'], format=\"%Y-%m-%d\")\n",
    "no_work_day = no_work_day[no_work_day['holidays_date'] >= date_start]\n",
    "datelist = pd.date_range(start=\"2023-01-01\", end=\"2023-09-29\")\n",
    "datelist = pd.DataFrame(list(datelist.to_pydatetime()),\n",
    "                        columns=['holidays_date'])\n",
    "day_list = datelist[\"holidays_date\"].values  # Список дат в диапазоне\n",
    "nwd_list = no_work_day[\"holidays_date\"].values  # Список праздничныйх дней\n",
    "traide_day = []\n",
    "for i in day_list:\n",
    "    if i not in nwd_list:\n",
    "        traide_day.append(i)"
   ]
  },
  {
   "cell_type": "code",
   "execution_count": null,
   "id": "227df87a",
   "metadata": {},
   "outputs": [],
   "source": [
    "response = requests.get(base_url)  # Базовый адрес\n",
    "result = json.loads(response.text)\n",
    "col_name = result['history']['columns']  # Задаем имена колонок\n",
    "data_f = pd.DataFrame(columns=col_name)\n",
    "# В цикле по торговым дням получим  данные с МосБиржи по фьючерсам\n",
    "for i in traide_day:\n",
    "    # Передаем дату в виде строки формата ГГГГ-ММ-ДД\n",
    "    url_date = np.datetime_as_string(i, unit='D')\n",
    "    url_one_page = base_url + '?date=' + url_date\n",
    "    response = requests.get(url_one_page)  # Базовый адрес и дата\n",
    "    col_name = result['history']['columns']  # Задаем имена колонок\n",
    "    result = json.loads(response.text)\n",
    "    # Узнаем количество строк, если их 0 (нет торгов), то берем следующий день\n",
    "    total_line = result['history.cursor']['data'][0][1]\n",
    "    if total_line == 0:\n",
    "        continue\n",
    "    step = total_line//100  # Узнаем количество сотен\n",
    "    ost = total_line % 100  # Узнаем количество едениц\n",
    "    # Извлекаем полученные на 1 странице данные\n",
    "    resp_date = result['history']['data']\n",
    "    # Полеченные данные записываем в датафрейм\n",
    "    data_p_one = pd.DataFrame(resp_date, columns=col_name)\n",
    "    # Записываем в изначальный датафрейм полученные данные\n",
    "    data = pd.concat([data_f, data_p_one], ignore_index=True)\n",
    "    # Цикл загрузки остальных строк\n",
    "    for j in range(1, step+1):\n",
    "        page_line = '&start=' + str(j*100)\n",
    "        url_next_page = url_one_page + page_line\n",
    "        response = requests.get(url_next_page)\n",
    "        result = json.loads(response.text)\n",
    "        resp_date = result['history']['data']\n",
    "        data_next_page = pd.DataFrame(resp_date, columns=col_name)\n",
    "        data_f = pd.concat([data_f, data_next_page], ignore_index=True)\n",
    "        time.sleep(1.5)"
   ]
  },
  {
   "cell_type": "code",
   "execution_count": null,
   "id": "1dd025ac",
   "metadata": {},
   "outputs": [],
   "source": [
    "data_f"
   ]
  },
  {
   "cell_type": "markdown",
   "id": "62a4c8a0",
   "metadata": {},
   "source": [
    "## Данные по валютным торгам"
   ]
  },
  {
   "cell_type": "code",
   "execution_count": null,
   "id": "f45e308a",
   "metadata": {},
   "outputs": [],
   "source": [
    "base_url = 'http://iss.moex.com/iss/history/engines/currency/markets/selt/securities.json'"
   ]
  },
  {
   "cell_type": "code",
   "execution_count": null,
   "id": "61accfc8",
   "metadata": {},
   "outputs": [],
   "source": [
    "response = requests.get(base_url)  # Базовый адрес\n",
    "result = json.loads(response.text)\n",
    "col_name = result['history']['columns']  # Задаем имена колонок\n",
    "data_cur = pd.DataFrame(columns=col_name)\n",
    "# В цикле по торговым дням получим  данные с МосБиржи по фьючерсам\n",
    "for i in traide_day:\n",
    "    # Передаем дату в виде строки формата ГГГГ-ММ-ДД\n",
    "    url_date = np.datetime_as_string(i, unit='D')\n",
    "    url_one_page = base_url + '?date=' + url_date\n",
    "    response = requests.get(url_one_page)  # Базовый адрес и дата\n",
    "    col_name = result['history']['columns']  # Задаем имена колонок\n",
    "    result = json.loads(response.text)\n",
    "    # Узнаем количество строк, если их 0 (нет торгов), то берем следующий день\n",
    "    total_line = result['history.cursor']['data'][0][1]\n",
    "    if total_line == 0:\n",
    "        continue\n",
    "    step = total_line//100  # Узнаем количество сотен\n",
    "    ost = total_line % 100  # Узнаем количество едениц\n",
    "    # Извлекаем полученные на 1 странице данные\n",
    "    resp_date = result['history']['data']\n",
    "    # Полеченные данные записываем в датафрейм\n",
    "    data_p_one = pd.DataFrame(resp_date, columns=col_name)\n",
    "    # Записываем в изначальный датафрейм полученные данные\n",
    "    data = pd.concat([data_cur, data_p_one], ignore_index=True)\n",
    "    # Цикл загрузки остальных строк\n",
    "    for j in range(1, step+1):\n",
    "        page_line = '&start=' + str(j*100)\n",
    "        url_next_page = url_one_page + page_line\n",
    "        response = requests.get(url_next_page)\n",
    "        result = json.loads(response.text)\n",
    "        resp_date = result['history']['data']\n",
    "        data_next_page = pd.DataFrame(resp_date, columns=col_name)\n",
    "        data_cur = pd.concat([data_cur, data_next_page], ignore_index=True)\n",
    "        time.sleep(1.5)"
   ]
  }
 ],
 "metadata": {
  "kernelspec": {
   "display_name": "Python 3 (ipykernel)",
   "language": "python",
   "name": "python3"
  },
  "language_info": {
   "codemirror_mode": {
    "name": "ipython",
    "version": 3
   },
   "file_extension": ".py",
   "mimetype": "text/x-python",
   "name": "python",
   "nbconvert_exporter": "python",
   "pygments_lexer": "ipython3",
   "version": "3.9.12"
  }
 },
 "nbformat": 4,
 "nbformat_minor": 5
}
